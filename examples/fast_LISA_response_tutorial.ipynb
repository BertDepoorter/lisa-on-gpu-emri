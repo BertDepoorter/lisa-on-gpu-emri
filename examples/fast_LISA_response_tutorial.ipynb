{
 "cells": [
  {
   "cell_type": "markdown",
   "metadata": {},
   "source": [
    "# Fast LISA Response Tutorial"
   ]
  },
  {
   "cell_type": "code",
   "execution_count": 1,
   "metadata": {},
   "outputs": [],
   "source": [
    "import numpy as np\n",
    "import matplotlib.pyplot as plt\n",
    "%matplotlib inline \n",
    "\n",
    "from fastlisaresponse import pyResponseTDI\n",
    "from astropy import units as un\n",
    "\n",
    "YRSID_SI = 31558149.763545603"
   ]
  },
  {
   "cell_type": "markdown",
   "metadata": {},
   "source": [
    "## Gravitational wave signal"
   ]
  },
  {
   "cell_type": "code",
   "execution_count": 2,
   "metadata": {},
   "outputs": [],
   "source": [
    "class GBLike:\n",
    "    def __init__(self, response_model, sampling_frequency, Tobs, use_gpu=False):\n",
    "\n",
    "        self.response_model = response_model\n",
    "        if use_gpu:\n",
    "            self.xp = xp\n",
    "        else:\n",
    "            self.xp = np\n",
    "        self.n = int(Tobs * YRSID_SI / response_model.dt)\n",
    "        self.Tobs = self.n * response_model.dt\n",
    "\n",
    "        # add the buffer\n",
    "        self.t_buffer = response_model.total_buffer * response_model.dt\n",
    "        self.t = np.arange(\n",
    "            response_model.t0_wave, response_model.tend_wave, response_model.dt\n",
    "        )\n",
    "        self.t_in = self.xp.asarray(\n",
    "            self.t\n",
    "        )  #  - self.t0_tdi  # sets quantities at beginning of tdi\n",
    "        # TODO: should we keep this?\n",
    "\n",
    "    def _get_h(self, A, f, fdot, iota, phi0, psi):\n",
    "        cos2psi = self.xp.cos(2.0 * psi)\n",
    "        sin2psi = self.xp.sin(2.0 * psi)\n",
    "        cosiota = self.xp.cos(iota)\n",
    "\n",
    "        fddot = 11.0 / 3.0 * fdot ** 2 / f\n",
    "\n",
    "        # phi0 is phi(t = 0, which is shifted due to t_buffer)\n",
    "        phase = (\n",
    "            2\n",
    "            * np.pi\n",
    "            * (\n",
    "                f * self.t_in\n",
    "                + 1.0 / 2.0 * fdot * self.t_in ** 2\n",
    "                + 1.0 / 6.0 * fddot * self.t_in ** 3\n",
    "            )\n",
    "            - phi0\n",
    "        )\n",
    "\n",
    "        hSp = -self.xp.cos(phase) * A * (1.0 + cosiota * cosiota)\n",
    "        hSc = -self.xp.sin(phase) * 2.0 * A * cosiota\n",
    "\n",
    "        hp = hSp * cos2psi - hSc * sin2psi\n",
    "        hc = hSp * sin2psi + hSc * cos2psi\n",
    "\n",
    "        return hp + 1j * hc\n",
    "\n",
    "    def __call__(self, A, f, fdot, iota, phi0, psi, lam, beta):\n",
    "\n",
    "        h = self._get_h(A, f, fdot, iota, phi0, psi)\n",
    "\n",
    "        self.response_model.get_projections(h, lam, beta)\n",
    "        tdi_out = self.response_model.get_tdi_delays()\n",
    "\n",
    "        return tdi_out"
   ]
  },
  {
   "cell_type": "markdown",
   "metadata": {},
   "source": [
    "## Build waveforms"
   ]
  },
  {
   "cell_type": "markdown",
   "metadata": {},
   "source": [
    "### Setup classes"
   ]
  },
  {
   "cell_type": "code",
   "execution_count": 5,
   "metadata": {},
   "outputs": [],
   "source": [
    "\n",
    "import matplotlib.pyplot as plt\n",
    "\n",
    "# from ldc.waveform.waveform import HpHc\n",
    "# from ldc.lisa.orbits import Orbits\n",
    "# from ldc.lisa.projection import ProjectedStrain\n",
    "\n",
    "use_gpu = False\n",
    "\n",
    "num_pts_in = int(3.1557E+06)\n",
    "\n",
    "sampling_frequency = 0.1\n",
    "dt = 1 / sampling_frequency\n",
    "T = (num_pts_in * dt) / YRSID_SI\n",
    "\n",
    "order = 25\n",
    "\n",
    "# add your file path here\n",
    "orbit_file = \"../esa-orbits.h5\"\n",
    "\n",
    "tdi_kwargs = dict(\n",
    "    order=order,\n",
    "    tdi=\"1st generation\",\n",
    "    tdi_chan=\"XYZ\",  # or AET or AE\n",
    "    num_pts=num_pts_in,\n",
    ")\n",
    "\n",
    "orbit_kwargs=dict(orbit_file=orbit_file)\n",
    "\n",
    "response_model = pyResponseTDI(sampling_frequency,\n",
    "        num_pts_in,\n",
    "        orbit_kwargs,\n",
    "        order=order,\n",
    "        tdi=\"1st generation\",\n",
    "        tdi_orbit_kwargs={},\n",
    "        tdi_chan=\"XYZ\",\n",
    "        t0=100.0,\n",
    "        use_gpu=False,\n",
    ")\n",
    "\n",
    "gb = GBLike(response_model, sampling_frequency, T, use_gpu=use_gpu)\n",
    "\n",
    "A = 1.084702251e-22\n",
    "f = 2.35962078e-3\n",
    "fdot = 1.47197271e-17\n",
    "iota = 1.11820901\n",
    "phi0 = 4.91128699\n",
    "psi = 2.3290324\n",
    "\n",
    "beta = 0.9805742971871619\n",
    "lam = 5.22979888\n",
    "\n"
   ]
  },
  {
   "cell_type": "markdown",
   "metadata": {},
   "source": [
    "### Run generator"
   ]
  },
  {
   "cell_type": "code",
   "execution_count": 6,
   "metadata": {},
   "outputs": [],
   "source": [
    "chans = gb(A, f, fdot, iota, phi0, psi, lam, beta)"
   ]
  },
  {
   "cell_type": "markdown",
   "metadata": {},
   "source": [
    "### Plot results"
   ]
  },
  {
   "cell_type": "code",
   "execution_count": 7,
   "metadata": {},
   "outputs": [
    {
     "data": {
      "image/png": "[encoded data removed]",
      "text/plain": [
       "<Figure size 432x288 with 3 Axes>"
      ]
     },
     "metadata": {
      "needs_background": "light"
     },
     "output_type": "display_data"
    }
   ],
   "source": [
    "fig, ax = plt.subplots(3, 1, sharex=True)\n",
    "\n",
    "for i in range(3):\n",
    "    ax[i].plot(np.arange(len(chans[0])) * dt, chans[i])"
   ]
  }
 ],
 "metadata": {
  "kernelspec": {
   "display_name": "Python 3",
   "language": "python",
   "name": "python3"
  },
  "language_info": {
   "codemirror_mode": {
    "name": "ipython",
    "version": 3
   },
   "file_extension": ".py",
   "mimetype": "text/x-python",
   "name": "python",
   "nbconvert_exporter": "python",
   "pygments_lexer": "ipython3",
   "version": "3.8.6"
  }
 },
 "nbformat": 4,
 "nbformat_minor": 4
}
