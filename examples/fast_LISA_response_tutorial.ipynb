{
 "cells": [
  {
   "cell_type": "markdown",
   "metadata": {},
   "source": [
    "# Fast LISA Response Tutorial"
   ]
  },
  {
   "cell_type": "code",
   "execution_count": 1,
   "metadata": {},
   "outputs": [],
   "source": [
    "import numpy as np\n",
    "import matplotlib.pyplot as plt\n",
    "%matplotlib inline \n",
    "\n",
    "from fastlisaresponse import pyResponseTDI, ResponseWrapper\n",
    "from astropy import units as un\n",
    "\n",
    "YRSID_SI = 31558149.763545603"
   ]
  },
  {
   "cell_type": "markdown",
   "metadata": {},
   "source": [
    "## Gravitational wave signal"
   ]
  },
  {
   "cell_type": "code",
   "execution_count": 2,
   "metadata": {},
   "outputs": [],
   "source": [
    "class GBWave:\n",
    "    def __init__(self, use_gpu=False):\n",
    "\n",
    "        if use_gpu:\n",
    "            self.xp = xp\n",
    "        else:\n",
    "            self.xp = np\n",
    "\n",
    "    def __call__(self, A, f, fdot, iota, phi0, psi, T=1.0, dt=10.0):\n",
    "\n",
    "        t = self.xp.arange(0.0, T * YRSID_SI, dt)\n",
    "        cos2psi = self.xp.cos(2.0 * psi)\n",
    "        sin2psi = self.xp.sin(2.0 * psi)\n",
    "        cosiota = self.xp.cos(iota)\n",
    "\n",
    "        fddot = 11.0 / 3.0 * fdot ** 2 / f\n",
    "\n",
    "        # phi0 is phi(t = 0, which is shifted due to t_buffer)\n",
    "        phase = (\n",
    "            2 * np.pi * (f * t + 1.0 / 2.0 * fdot * t ** 2 + 1.0 / 6.0 * fddot * t ** 3)\n",
    "            - phi0\n",
    "        )\n",
    "\n",
    "        hSp = -self.xp.cos(phase) * A * (1.0 + cosiota * cosiota)\n",
    "        hSc = -self.xp.sin(phase) * 2.0 * A * cosiota\n",
    "\n",
    "        hp = hSp * cos2psi - hSc * sin2psi\n",
    "        hc = hSp * sin2psi + hSc * cos2psi\n",
    "\n",
    "        return hp + 1j * hc"
   ]
  },
  {
   "cell_type": "markdown",
   "metadata": {},
   "source": [
    "## Build waveforms"
   ]
  },
  {
   "cell_type": "markdown",
   "metadata": {},
   "source": [
    "### Setup classes"
   ]
  },
  {
   "cell_type": "code",
   "execution_count": 4,
   "metadata": {},
   "outputs": [],
   "source": [
    "use_gpu = False\n",
    "\n",
    "T = 2.0  # years\n",
    "\n",
    "sampling_frequency = 0.1\n",
    "dt = 1 / sampling_frequency\n",
    "\n",
    "order = 25\n",
    "\n",
    "# add your file path here\n",
    "orbit_file = \"../esa-orbits.h5\"\n",
    "\n",
    "tdi_kwargs = dict(\n",
    "    orbit_kwargs=dict(orbit_file=orbit_file),\n",
    "    order=order,\n",
    "    tdi=\"1st generation\",\n",
    "    tdi_chan=\"XYZ\",\n",
    ")\n",
    "\n",
    "gb = GBWave(use_gpu=use_gpu)\n",
    "\n",
    "index_lambda = 6\n",
    "index_beta = 7\n",
    "\n",
    "gb_lisa = ResponseWrapper(\n",
    "    gb,\n",
    "    T,\n",
    "    dt,\n",
    "    index_lambda,\n",
    "    index_beta,\n",
    "    flip_hx=False,\n",
    "    use_gpu=use_gpu,\n",
    "    remove_sky_coords=True,\n",
    "    is_ecliptic_latitude=True,\n",
    "    **tdi_kwargs\n",
    ")\n",
    "\n",
    "A = 1.084702251e-22\n",
    "f = 2.35962078e-3\n",
    "fdot = 1.47197271e-17\n",
    "iota = 1.11820901\n",
    "phi0 = 4.91128699\n",
    "psi = 2.3290324\n",
    "\n",
    "beta = 0.9805742971871619\n",
    "lam = 5.22979888\n",
    "\n"
   ]
  },
  {
   "cell_type": "markdown",
   "metadata": {},
   "source": [
    "### Run generator"
   ]
  },
  {
   "cell_type": "code",
   "execution_count": 5,
   "metadata": {},
   "outputs": [],
   "source": [
    "chans = gb_lisa(A, f, fdot, iota, phi0, psi, lam, beta)"
   ]
  },
  {
   "cell_type": "markdown",
   "metadata": {},
   "source": [
    "### Plot results"
   ]
  },
  {
   "cell_type": "code",
   "execution_count": 8,
   "metadata": {},
   "outputs": [
    {
     "data": {
      "image/png": "[encoded data removed]",
      "text/plain": [
       "<Figure size 432x288 with 3 Axes>"
      ]
     },
     "metadata": {
      "needs_background": "light"
     },
     "output_type": "display_data"
    }
   ],
   "source": [
    "fig, ax = plt.subplots(3, 1, sharex=True)\n",
    "\n",
    "for i, lab in enumerate([\"X\", \"Y\", \"Z\"]):\n",
    "    ax[i].plot(np.arange(len(chans[0])) * dt / YRSID_SI, chans[i])\n",
    "    ax[i].set_ylabel(lab)"
   ]
  }
 ],
 "metadata": {
  "kernelspec": {
   "display_name": "Python 3",
   "language": "python",
   "name": "python3"
  },
  "language_info": {
   "codemirror_mode": {
    "name": "ipython",
    "version": 3
   },
   "file_extension": ".py",
   "mimetype": "text/x-python",
   "name": "python",
   "nbconvert_exporter": "python",
   "pygments_lexer": "ipython3",
   "version": "3.8.6"
  }
 },
 "nbformat": 4,
 "nbformat_minor": 4
}
