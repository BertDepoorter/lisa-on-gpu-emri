{
 "cells": [
  {
   "cell_type": "markdown",
   "metadata": {},
   "source": [
    "# Fast LISA Response Tutorial"
   ]
  },
  {
   "cell_type": "code",
   "execution_count": 2,
   "metadata": {},
   "outputs": [],
   "source": [
    "import numpy as np\n",
    "import matplotlib.pyplot as plt\n",
    "%matplotlib inline \n",
    "\n",
    "import h5py\n",
    "from fastlisaresponse import pyResponseTDI, ResponseWrapper\n",
    "from astropy import units as un\n",
    "\n",
    "from lisatools.detector import EqualArmlengthOrbits, Orbits\n",
    "\n",
    "YRSID_SI = 31558149.763545603"
   ]
  },
  {
   "cell_type": "markdown",
   "metadata": {},
   "source": [
    "This tutorial provides information on using `fastlisaresponse`: a generic time-domain LISA response function, including both projection on to constellation arms and TDI combinations. It is also GPU/CPU agnostic. The GPU capability is helpful for use in Bayesian inference algorithms. For more information and a detailed API, please see the [documentation](https://mikekatz04.github.io/lisa-on-gpu/).\n",
    "\n",
    "If you use this code, please cite [arXiv:2204.06633](https://arxiv.org/abs/2204.06633) and the code's [Zenodo](https://zenodo.org/record/3981654#.XzS_KRNKjlw). \n",
    "\n",
    "**Warning**: newest version (1.0.4) of code with `lisatools` orbits needs detailed testing before deployed for a paper."
   ]
  },
  {
   "cell_type": "markdown",
   "metadata": {},
   "source": [
    "## Orbits"
   ]
  },
  {
   "cell_type": "markdown",
   "metadata": {},
   "source": [
    "A few files are included with the Github repository. Orbits can also be generated with the LDC orbit module.\n",
    "\n",
    "Let's look at `esa-trailing-orbits.h5` and `equalarmlength-trailing-fit.h5`. If you build an orbit file, it needs to be of the same form as these files. "
   ]
  },
  {
   "cell_type": "code",
   "execution_count": 2,
   "metadata": {},
   "outputs": [],
   "source": [
    "out_esa = {}\n",
    "with h5py.File(\"../orbit_files/esa-trailing-orbits.h5\", \"r\") as f:\n",
    "    for key in f[\"tcb\"]:\n",
    "        out_esa[key] = f[\"tcb\"][key][:]\n",
    "        \n",
    "out_equal = {}\n",
    "with h5py.File(\"../orbit_files/equalarmlength-trailing-fit.h5\", \"r\") as f:\n",
    "    for key in f[\"tcb\"]:\n",
    "        out_equal[key] = f[\"tcb\"][key][:]"
   ]
  },
  {
   "cell_type": "markdown",
   "metadata": {},
   "source": [
    "This gives the link information as `l_ij` where `i` is the receiving spacecraft and `j` is the emitter; the spacecraft information as `sc_k`; and the time array associated with these quantities(`t`)."
   ]
  },
  {
   "cell_type": "code",
   "execution_count": 3,
   "metadata": {},
   "outputs": [
    {
     "data": {
      "text/plain": [
       "dict_keys(['l_12', 'l_13', 'l_21', 'l_23', 'l_31', 'l_32', 'sc_1', 'sc_2', 'sc_3', 't'])"
      ]
     },
     "execution_count": 3,
     "metadata": {},
     "output_type": "execute_result"
    }
   ],
   "source": [
    "out_esa.keys()"
   ]
  },
  {
   "cell_type": "markdown",
   "metadata": {},
   "source": [
    "### Link information"
   ]
  },
  {
   "cell_type": "markdown",
   "metadata": {},
   "source": [
    "The link information gives the delay time (`tt`) and the unit vector from emitter to receiver: $\\vec{n}=$(`nx`, `ny`, `nz`). "
   ]
  },
  {
   "cell_type": "code",
   "execution_count": 4,
   "metadata": {},
   "outputs": [
    {
     "data": {
      "text/plain": [
       "('tt', 'ppr', 'd_tt', 'd_ppr', 'nx', 'ny', 'nz')"
      ]
     },
     "execution_count": 4,
     "metadata": {},
     "output_type": "execute_result"
    }
   ],
   "source": [
    "out_esa[\"l_12\"].dtype.names"
   ]
  },
  {
   "cell_type": "code",
   "execution_count": 5,
   "metadata": {},
   "outputs": [
    {
     "data": {
      "text/plain": [
       "<matplotlib.legend.Legend at 0x7f8aa3fe31c0>"
      ]
     },
     "execution_count": 5,
     "metadata": {},
     "output_type": "execute_result"
    },
    {
     "data": {
      "image/png": "[encoded data removed]",
      "text/plain": [
       "<Figure size 432x288 with 1 Axes>"
      ]
     },
     "metadata": {
      "needs_background": "light"
     },
     "output_type": "display_data"
    }
   ],
   "source": [
    "plt.plot(out_esa[\"t\"], out_esa[\"l_12\"][\"tt\"], label='esa')\n",
    "plt.plot(out_equal[\"t\"], out_equal[\"l_12\"][\"tt\"], label='equal')\n",
    "plt.legend()\n",
    "#plt.savefig(\"esa_equalarm_l_12.png\")"
   ]
  },
  {
   "cell_type": "markdown",
   "metadata": {},
   "source": [
    "## Gravitational wave signal"
   ]
  },
  {
   "cell_type": "markdown",
   "metadata": {},
   "source": [
    " `fastlisaresponse` takes any time domain signal in the form $h(t) = h_+ + ih_\\times$. We are going to use a Galactic binary waveform given by\n",
    " \n",
    "$$\n",
    "    h_{+,\\text{src}} = -A(1+\\cos^2{\\iota})\\cos{\\Phi(t)}\\qquad \\text{          and} \n",
    "$$\n",
    "\n",
    "$$\n",
    "    h_{\\times,\\text{src}} = -2A\\cos{\\iota}\\sin{\\Phi(t)} \\text{  ,}\n",
    "$$\n",
    "\n",
    "where $A$ is the amplitude; $\\iota$ is the inclination; and\n",
    "$$\\Phi(t) \\approx -\\phi_0 + 2\\pi \\left(f_0t + \\frac{1}{2}\\dot{f}_0t^2 + \\frac{1}{6}\\ddot{f}_0t^3 \\right).$$\n",
    "\n",
    "$f$ is the initial gravitational wave frequency, and the over-dots are its time derivatives. The initial phase is $\\phi_0$. \n",
    "\n",
    "This waveform is then transformed to the solar-system barycenter (SSB) frame with the polarization angle, $\\psi$:\n",
    "\n",
    "$$\n",
    "    \\begin{bmatrix}\n",
    "        h_{+,\\text{SSB}} \\\\\n",
    "        h_{\\times,\\text{SSB}} \n",
    "     \\end{bmatrix} = \n",
    "     \\begin{bmatrix}\n",
    "        \\cos{2\\psi} &  -\\sin{2\\psi}\\\\\n",
    "        \\sin{2\\psi} & \\cos{2\\psi}\n",
    "      \\end{bmatrix}\n",
    "      \\begin{bmatrix}\n",
    "        h_{+,\\text{src}} \\\\\n",
    "        h_{\\times,\\text{src}} \n",
    "     \\end{bmatrix}\\ .\n",
    "$$\n",
    "\n",
    "The waveform here is called with a class to allow for GPU usage. Equivalently, you can just use a function. However, please **note** that the function must take the keyword arguments `T` and `dt` which are the total observation time in in years and the sampling rate in seconds (inverse of the sampling frequency). "
   ]
  },
  {
   "cell_type": "code",
   "execution_count": 4,
   "metadata": {},
   "outputs": [],
   "source": [
    "class GBWave:\n",
    "    def __init__(self, use_gpu=False):\n",
    "\n",
    "        if use_gpu:\n",
    "            self.xp = xp\n",
    "        else:\n",
    "            self.xp = np\n",
    "\n",
    "    def __call__(self, A, f, fdot, iota, phi0, psi, T=1.0, dt=10.0):\n",
    "\n",
    "        # get the t array \n",
    "        t = self.xp.arange(0.0, T * YRSID_SI, dt)\n",
    "        cos2psi = self.xp.cos(2.0 * psi)\n",
    "        sin2psi = self.xp.sin(2.0 * psi)\n",
    "        cosiota = self.xp.cos(iota)\n",
    "\n",
    "        fddot = 11.0 / 3.0 * fdot ** 2 / f\n",
    "\n",
    "        # phi0 is phi(t = 0) not phi(t = t0)\n",
    "        phase = (\n",
    "            2 * np.pi * (f * t + 1.0 / 2.0 * fdot * t ** 2 + 1.0 / 6.0 * fddot * t ** 3)\n",
    "            - phi0\n",
    "        )\n",
    "\n",
    "        hSp = -self.xp.cos(phase) * A * (1.0 + cosiota * cosiota)\n",
    "        hSc = -self.xp.sin(phase) * 2.0 * A * cosiota\n",
    "\n",
    "        hp = hSp * cos2psi - hSc * sin2psi\n",
    "        hc = hSp * sin2psi + hSc * cos2psi\n",
    "\n",
    "        return hp + 1j * hc"
   ]
  },
  {
   "cell_type": "code",
   "execution_count": 5,
   "metadata": {},
   "outputs": [],
   "source": [
    "gb = GBWave(use_gpu=False)"
   ]
  },
  {
   "cell_type": "markdown",
   "metadata": {},
   "source": [
    "## Build waveforms"
   ]
  },
  {
   "cell_type": "markdown",
   "metadata": {},
   "source": [
    "We will now move on to the response. The method and specific maths used to determine the response function can be found in our paper: # TODO: add paper. We recommend accessing the response through the [`fastlisaresponse.ResponseWrapper`](https://mikekatz04.github.io/lisa-on-gpu/html/user/main.html#response-function-wrapper). You can access the response function itself through [`fastlisaresponse.pyTDIResponse`](https://mikekatz04.github.io/lisa-on-gpu/html/user/main.html#fast-response-function). See the [documentation](https://mikekatz04.github.io/lisa-on-gpu/) for using this class directly as it is a bit more complicated. If you only need to use the projection portion or the TDI part, then you should access the response class itself. Otherwise, the wrapper should be fine. You can access the projections from the wrapper if need. "
   ]
  },
  {
   "cell_type": "markdown",
   "metadata": {},
   "source": [
    "### Setup classes"
   ]
  },
  {
   "cell_type": "markdown",
   "metadata": {},
   "source": [
    "First we will setup everything to properly compute the response function for Galactic binary waveforms. "
   ]
  },
  {
   "cell_type": "code",
   "execution_count": 6,
   "metadata": {},
   "outputs": [
    {
     "name": "stderr",
     "output_type": "stream",
     "text": [
      "/Users/mlkatz1/miniconda3/envs/lisa_env/lib/python3.12/site-packages/fastlisaresponse/response.py:683: UserWarning: Tobs is larger than available orbital information time array. Reducing Tobs to 31500000.0\n",
      "  warnings.warn(\n"
     ]
    }
   ],
   "source": [
    "use_gpu = False\n",
    "\n",
    "T = 2.0  # years\n",
    "t0 = 10000.0  # time at which signal starts (chops off data at start of waveform where information is not correct)\n",
    "\n",
    "sampling_frequency = 0.1\n",
    "dt = 1 / sampling_frequency\n",
    "\n",
    "# order of the langrangian interpolation\n",
    "order = 25\n",
    "\n",
    "# 1st or 2nd or custom (see docs for custom)\n",
    "tdi_gen = \"2nd generation\"\n",
    "\n",
    "index_lambda = 6\n",
    "index_beta = 7\n",
    "\n",
    "tdi_kwargs_esa = dict(\n",
    "    order=order, tdi=tdi_gen, tdi_chan=\"AET\",\n",
    ")\n",
    "\n",
    "gb_lisa_esa = ResponseWrapper(\n",
    "    gb,\n",
    "    T,\n",
    "    dt,\n",
    "    index_lambda,\n",
    "    index_beta,\n",
    "    t0=t0,\n",
    "    flip_hx=False,  # set to True if waveform is h+ - ihx\n",
    "    use_gpu=use_gpu,\n",
    "    remove_sky_coords=True,  # True if the waveform generator does not take sky coordinates\n",
    "    is_ecliptic_latitude=True,  # False if using polar angle (theta)\n",
    "    remove_garbage=True,  # removes the beginning of the signal that has bad information\n",
    "    orbits=EqualArmlengthOrbits(),\n",
    "    **tdi_kwargs_esa,\n",
    ")\n",
    "\n",
    "# define GB parameters\n",
    "A = 1.084702251e-22\n",
    "f = 2.35962078e-3\n",
    "fdot = 1.47197271e-17\n",
    "iota = 1.11820901\n",
    "phi0 = 4.91128699\n",
    "psi = 2.3290324\n",
    "\n",
    "beta = 0.9805742971871619\n",
    "lam = 5.22979888\n",
    "\n"
   ]
  },
  {
   "cell_type": "markdown",
   "metadata": {},
   "source": [
    "### Run generator"
   ]
  },
  {
   "cell_type": "code",
   "execution_count": 7,
   "metadata": {},
   "outputs": [],
   "source": [
    "chans = gb_lisa_esa(A, f, fdot, iota, phi0, psi, lam, beta)"
   ]
  },
  {
   "cell_type": "markdown",
   "metadata": {},
   "source": [
    "### Plot results"
   ]
  },
  {
   "cell_type": "code",
   "execution_count": 8,
   "metadata": {},
   "outputs": [
    {
     "data": {
      "image/png": "[encoded data removed]",
      "text/plain": [
       "<Figure size 640x480 with 3 Axes>"
      ]
     },
     "metadata": {},
     "output_type": "display_data"
    }
   ],
   "source": [
    "%matplotlib inline\n",
    "fig, ax = plt.subplots(3, 1, sharex=True)\n",
    "\n",
    "for i, lab in enumerate([\"A\", \"E\", \"T\"]):\n",
    "    ax[i].plot(np.arange(len(chans[0])) * dt / YRSID_SI, chans[i])\n",
    "    ax[i].set_ylabel(lab)"
   ]
  },
  {
   "cell_type": "markdown",
   "metadata": {},
   "source": [
    "## Compare to equal armlength fit"
   ]
  },
  {
   "cell_type": "code",
   "execution_count": 11,
   "metadata": {},
   "outputs": [
    {
     "data": {
      "image/png": "[encoded data removed]",
      "text/plain": [
       "<Figure size 432x288 with 3 Axes>"
      ]
     },
     "metadata": {
      "needs_background": "light"
     },
     "output_type": "display_data"
    }
   ],
   "source": [
    "orbit_file_equal = \"../orbit_files/equalarmlength-trailing-fit.h5\"\n",
    "\n",
    "orbit_kwargs_equal = dict(orbit_file=orbit_file_equal)\n",
    "\n",
    "tdi_kwargs_equal = dict(\n",
    "    orbit_kwargs=orbit_kwargs_equal, order=order, tdi=tdi_gen, tdi_chan=\"AET\",\n",
    ")\n",
    "\n",
    "gb_lisa_equal = ResponseWrapper(\n",
    "    gb,\n",
    "    T,\n",
    "    dt,\n",
    "    index_lambda,\n",
    "    index_beta,\n",
    "    t0=t0,\n",
    "    flip_hx=False,  # set to True if waveform is h+ - ihx\n",
    "    use_gpu=use_gpu,\n",
    "    remove_sky_coords=True,  # True if the waveform generator does not take sky coordinates\n",
    "    is_ecliptic_latitude=True,  # False if using polar angle (theta)\n",
    "    remove_garbage=True,  # removes the beginning of the signal that has bad information\n",
    "    **tdi_kwargs_equal,\n",
    ")\n",
    "chans_equal = gb_lisa_equal(A, f, fdot, iota, phi0, psi, lam, beta)\n",
    "\n",
    "fig, ax = plt.subplots(3, 1, sharex=True)\n",
    "\n",
    "for i, lab in enumerate([\"A\", \"E\", \"T\"]):\n",
    "    ax[i].plot(np.arange(len(chans[0])) * dt / YRSID_SI, chans_equal[i])\n",
    "    ax[i].set_ylabel(lab)"
   ]
  },
  {
   "cell_type": "markdown",
   "metadata": {},
   "source": [
    "## Custom TDI setup"
   ]
  },
  {
   "cell_type": "markdown",
   "metadata": {},
   "source": [
    "Here is an example of the 2nd Generation TDI implementation within the code."
   ]
  },
  {
   "cell_type": "code",
   "execution_count": 9,
   "metadata": {},
   "outputs": [
    {
     "name": "stderr",
     "output_type": "stream",
     "text": [
      "/Users/mlkatz1/miniconda3/envs/lisa_env/lib/python3.12/site-packages/fastlisaresponse/response.py:683: UserWarning: Tobs is larger than available orbital information time array. Reducing Tobs to 31500000.0\n",
      "  warnings.warn(\n"
     ]
    },
    {
     "data": {
      "image/png": "[encoded data removed]",
      "text/plain": [
       "<Figure size 640x480 with 3 Axes>"
      ]
     },
     "metadata": {},
     "output_type": "display_data"
    }
   ],
   "source": [
    "X1 = [\n",
    "    {\"link\": 13, \"links_for_delay\": [], \"sign\": +1},\n",
    "    {\"link\": 31, \"links_for_delay\": [13], \"sign\": +1},\n",
    "    {\"link\": 12, \"links_for_delay\": [13, 31], \"sign\": +1},\n",
    "    {\"link\": 21, \"links_for_delay\": [13, 31, 12], \"sign\": +1},\n",
    "    {\"link\": 12, \"links_for_delay\": [], \"sign\": -1},\n",
    "    {\"link\": 21, \"links_for_delay\": [12], \"sign\": -1},\n",
    "    {\"link\": 13, \"links_for_delay\": [12, 21], \"sign\": -1},\n",
    "    {\"link\": 31, \"links_for_delay\": [12, 21, 13], \"sign\": -1},\n",
    "]\n",
    "\n",
    "X2 = X1 + [\n",
    "        {\"link\": 12, \"links_for_delay\": [13, 31, 12, 21], \"sign\": +1},\n",
    "        {\"link\": 21, \"links_for_delay\": [13, 31, 12, 21, 12], \"sign\": +1},\n",
    "        {\n",
    "            \"link\": 13,\n",
    "            \"links_for_delay\": [13, 31, 12, 21, 12, 21],\n",
    "            \"sign\": +1,\n",
    "        },\n",
    "        {\n",
    "            \"link\": 31,\n",
    "            \"links_for_delay\": [13, 31, 12, 21, 12, 21, 13],\n",
    "            \"sign\": +1,\n",
    "        },\n",
    "        {\"link\": 13, \"links_for_delay\": [12, 21, 13, 31], \"sign\": -1},\n",
    "        {\"link\": 13, \"links_for_delay\": [12, 21, 13, 31, 13], \"sign\": -1},\n",
    "        {\n",
    "            \"link\": 13,\n",
    "            \"links_for_delay\": [12, 21, 13, 31, 13, 31],\n",
    "            \"sign\": -1,\n",
    "        },\n",
    "        {\n",
    "            \"link\": 13,\n",
    "            \"links_for_delay\": [12, 21, 13, 31, 13, 31, 12],\n",
    "            \"sign\": -1,\n",
    "        },\n",
    "    ]\n",
    "\n",
    "tdi_kwargs_custom = dict(\n",
    "    order=order, tdi=X2, tdi_chan=\"AET\",\n",
    ")\n",
    "\n",
    "gb_lisa_custom = ResponseWrapper(\n",
    "    gb,\n",
    "    T,\n",
    "    t0,\n",
    "    dt,\n",
    "    index_lambda,\n",
    "    index_beta,\n",
    "    flip_hx=False,  # set to True if waveform is h+ - ihx\n",
    "    use_gpu=use_gpu,\n",
    "    remove_sky_coords=True,  # True if the waveform generator does not take sky coordinates\n",
    "    is_ecliptic_latitude=True,  # False if using polar angle (theta)\n",
    "    remove_garbage=True,  # removes the beginning of the signal that has bad information\n",
    "    orbits=EqualArmlengthOrbits(),\n",
    "    **tdi_kwargs_custom,\n",
    ")\n",
    "\n",
    "chans = gb_lisa_esa(A, f, fdot, iota, phi0, psi, lam, beta)\n",
    "\n",
    "fig, ax = plt.subplots(3, 1, sharex=True)\n",
    "\n",
    "for i, lab in enumerate([\"A\", \"E\", \"T\"]):\n",
    "    ax[i].plot(np.arange(len(chans[0])) * dt / YRSID_SI, chans[i])\n",
    "    ax[i].set_ylabel(lab)"
   ]
  }
 ],
 "metadata": {
  "kernelspec": {
   "display_name": "Python 3 (ipykernel)",
   "language": "python",
   "name": "python3"
  },
  "language_info": {
   "codemirror_mode": {
    "name": "ipython",
    "version": 3
   },
   "file_extension": ".py",
   "mimetype": "text/x-python",
   "name": "python",
   "nbconvert_exporter": "python",
   "pygments_lexer": "ipython3",
   "version": "3.12.1"
  }
 },
 "nbformat": 4,
 "nbformat_minor": 4
}
